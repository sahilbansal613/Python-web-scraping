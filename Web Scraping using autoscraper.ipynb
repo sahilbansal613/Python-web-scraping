{
 "cells": [
  {
   "cell_type": "code",
   "execution_count": 2,
   "id": "5ad28594",
   "metadata": {},
   "outputs": [
    {
     "name": "stdout",
     "output_type": "stream",
     "text": [
      "Collecting autoscraper\n",
      "  Downloading autoscraper-1.1.14-py3-none-any.whl (10 kB)\n",
      "Requirement already satisfied: requests in c:\\users\\hp\\anaconda3\\lib\\site-packages (from autoscraper) (2.27.1)\n",
      "Requirement already satisfied: lxml in c:\\users\\hp\\anaconda3\\lib\\site-packages (from autoscraper) (4.8.0)\n",
      "Requirement already satisfied: bs4 in c:\\users\\hp\\anaconda3\\lib\\site-packages (from autoscraper) (0.0.1)\n",
      "Requirement already satisfied: beautifulsoup4 in c:\\users\\hp\\anaconda3\\lib\\site-packages (from bs4->autoscraper) (4.11.1)\n",
      "Requirement already satisfied: certifi>=2017.4.17 in c:\\users\\hp\\anaconda3\\lib\\site-packages (from requests->autoscraper) (2021.10.8)\n",
      "Requirement already satisfied: urllib3<1.27,>=1.21.1 in c:\\users\\hp\\anaconda3\\lib\\site-packages (from requests->autoscraper) (1.26.9)\n",
      "Requirement already satisfied: idna<4,>=2.5 in c:\\users\\hp\\anaconda3\\lib\\site-packages (from requests->autoscraper) (3.3)\n",
      "Requirement already satisfied: charset-normalizer~=2.0.0 in c:\\users\\hp\\anaconda3\\lib\\site-packages (from requests->autoscraper) (2.0.4)\n",
      "Requirement already satisfied: soupsieve>1.2 in c:\\users\\hp\\anaconda3\\lib\\site-packages (from beautifulsoup4->bs4->autoscraper) (2.3.1)\n",
      "Installing collected packages: autoscraper\n",
      "Successfully installed autoscraper-1.1.14\n",
      "Note: you may need to restart the kernel to use updated packages.\n"
     ]
    }
   ],
   "source": [
    "pip install autoscraper"
   ]
  },
  {
   "cell_type": "code",
   "execution_count": 3,
   "id": "ed7eafa6",
   "metadata": {},
   "outputs": [],
   "source": [
    "from autoscraper import AutoScraper"
   ]
  },
  {
   "cell_type": "code",
   "execution_count": 16,
   "id": "9acbd75e",
   "metadata": {},
   "outputs": [],
   "source": [
    "flipkart_url= \"https://www.flipkart.com/search?q=iphone\"\n",
    "list=[\"₹46,999\",\"APPLE iPhone 11 (White, 128 GB)\"]"
   ]
  },
  {
   "cell_type": "code",
   "execution_count": 17,
   "id": "01929cae",
   "metadata": {},
   "outputs": [
    {
     "name": "stdout",
     "output_type": "stream",
     "text": [
      "['₹71,999', '₹46,999', '₹40,999', '₹62,999', '₹80,999', '₹56,999', '₹81,999', '₹90,999', 'APPLE iPhone 14 (Midnight, 128 GB)', 'APPLE iPhone 14 (Starlight, 128 GB)', 'APPLE iPhone 11 (White, 128 GB)', 'APPLE iPhone 14 (Purple, 128 GB)', 'APPLE iPhone 11 (Black, 128 GB)', 'APPLE iPhone 11 (Black, 64 GB)', 'APPLE iPhone 14 (Blue, 128 GB)', 'APPLE iPhone 14 ((PRODUCT)RED, 128 GB)', 'APPLE iPhone 13 (Blue, 128 GB)', 'APPLE iPhone 14 Plus (Starlight, 128 GB)', 'APPLE iPhone 12 (Black, 128 GB)', 'APPLE iPhone 13 (Starlight, 128 GB)', 'APPLE iPhone 14 Plus (Midnight, 128 GB)', 'APPLE iPhone 14 Plus (Purple, 128 GB)', 'APPLE iPhone 11 (White, 64 GB)', 'APPLE iPhone 14 (Starlight, 256 GB)', 'APPLE iPhone 14 (Purple, 256 GB)', 'APPLE iPhone 14 (Midnight, 256 GB)', 'APPLE iPhone 14 (Blue, 256 GB)', 'APPLE iPhone 13 (Midnight, 128 GB)', 'APPLE iPhone 14 Plus (Blue, 128 GB)', 'APPLE iPhone 14 Plus ((PRODUCT)RED, 128 GB)', 'APPLE iPhone 12 (Green, 128 GB)', 'APPLE iPhone 14 Plus (Purple, 256 GB)']\n"
     ]
    }
   ],
   "source": [
    "scraper= AutoScraper()\n",
    "result= scraper.build(flipkart_url,list)\n",
    "print(result)"
   ]
  },
  {
   "cell_type": "code",
   "execution_count": 18,
   "id": "9e8f1707",
   "metadata": {},
   "outputs": [
    {
     "data": {
      "text/plain": [
       "{'rule_mnac': ['₹71,999',\n",
       "  '₹71,999',\n",
       "  '₹46,999',\n",
       "  '₹71,999',\n",
       "  '₹46,999',\n",
       "  '₹40,999',\n",
       "  '₹71,999',\n",
       "  '₹71,999',\n",
       "  '₹62,999',\n",
       "  '₹80,999',\n",
       "  '₹56,999',\n",
       "  '₹80,999',\n",
       "  '₹62,999',\n",
       "  '₹80,999',\n",
       "  '₹81,999',\n",
       "  '₹40,999',\n",
       "  '₹81,999',\n",
       "  '₹81,999',\n",
       "  '₹81,999',\n",
       "  '₹62,999',\n",
       "  '₹80,999',\n",
       "  '₹80,999',\n",
       "  '₹56,999',\n",
       "  '₹90,999'],\n",
       " 'rule_te3z': ['₹71,999',\n",
       "  '₹71,999',\n",
       "  '₹46,999',\n",
       "  '₹71,999',\n",
       "  '₹46,999',\n",
       "  '₹40,999',\n",
       "  '₹71,999',\n",
       "  '₹71,999',\n",
       "  '₹62,999',\n",
       "  '₹80,999',\n",
       "  '₹56,999',\n",
       "  '₹80,999',\n",
       "  '₹62,999',\n",
       "  '₹80,999',\n",
       "  '₹81,999',\n",
       "  '₹40,999',\n",
       "  '₹81,999',\n",
       "  '₹81,999',\n",
       "  '₹81,999',\n",
       "  '₹62,999',\n",
       "  '₹80,999',\n",
       "  '₹80,999',\n",
       "  '₹56,999',\n",
       "  '₹90,999'],\n",
       " 'rule_k1pk': ['APPLE iPhone 14 (Midnight, 128 GB)',\n",
       "  'APPLE iPhone 14 (Starlight, 128 GB)',\n",
       "  'APPLE iPhone 11 (White, 128 GB)',\n",
       "  'APPLE iPhone 14 (Purple, 128 GB)',\n",
       "  'APPLE iPhone 11 (Black, 128 GB)',\n",
       "  'APPLE iPhone 11 (Black, 64 GB)',\n",
       "  'APPLE iPhone 14 (Blue, 128 GB)',\n",
       "  'APPLE iPhone 14 ((PRODUCT)RED, 128 GB)',\n",
       "  'APPLE iPhone 13 (Blue, 128 GB)',\n",
       "  'APPLE iPhone 14 Plus (Starlight, 128 GB)',\n",
       "  'APPLE iPhone 12 (Black, 128 GB)',\n",
       "  'APPLE iPhone 14 Plus (Midnight, 128 GB)',\n",
       "  'APPLE iPhone 13 (Starlight, 128 GB)',\n",
       "  'APPLE iPhone 14 Plus (Purple, 128 GB)',\n",
       "  'APPLE iPhone 14 (Starlight, 256 GB)',\n",
       "  'APPLE iPhone 11 (White, 64 GB)',\n",
       "  'APPLE iPhone 14 (Purple, 256 GB)',\n",
       "  'APPLE iPhone 14 (Midnight, 256 GB)',\n",
       "  'APPLE iPhone 14 (Blue, 256 GB)',\n",
       "  'APPLE iPhone 13 (Midnight, 128 GB)',\n",
       "  'APPLE iPhone 14 Plus (Blue, 128 GB)',\n",
       "  'APPLE iPhone 14 Plus ((PRODUCT)RED, 128 GB)',\n",
       "  'APPLE iPhone 12 (Green, 128 GB)',\n",
       "  'APPLE iPhone 14 Plus (Blue, 256 GB)'],\n",
       " 'rule_slfi': ['APPLE iPhone 14 (Midnight, 128 GB)',\n",
       "  'APPLE iPhone 14 (Starlight, 128 GB)',\n",
       "  'APPLE iPhone 11 (White, 128 GB)',\n",
       "  'APPLE iPhone 14 (Purple, 128 GB)',\n",
       "  'APPLE iPhone 11 (Black, 128 GB)',\n",
       "  'APPLE iPhone 11 (Black, 64 GB)',\n",
       "  'APPLE iPhone 14 (Blue, 128 GB)',\n",
       "  'APPLE iPhone 14 ((PRODUCT)RED, 128 GB)',\n",
       "  'APPLE iPhone 13 (Blue, 128 GB)',\n",
       "  'APPLE iPhone 14 Plus (Starlight, 128 GB)',\n",
       "  'APPLE iPhone 12 (Black, 128 GB)',\n",
       "  'APPLE iPhone 14 Plus (Midnight, 128 GB)',\n",
       "  'APPLE iPhone 13 (Starlight, 128 GB)',\n",
       "  'APPLE iPhone 14 Plus (Purple, 128 GB)',\n",
       "  'APPLE iPhone 14 (Starlight, 256 GB)',\n",
       "  'APPLE iPhone 11 (White, 64 GB)',\n",
       "  'APPLE iPhone 14 (Purple, 256 GB)',\n",
       "  'APPLE iPhone 14 (Midnight, 256 GB)',\n",
       "  'APPLE iPhone 14 (Blue, 256 GB)',\n",
       "  'APPLE iPhone 13 (Midnight, 128 GB)',\n",
       "  'APPLE iPhone 14 Plus (Blue, 128 GB)',\n",
       "  'APPLE iPhone 14 Plus ((PRODUCT)RED, 128 GB)',\n",
       "  'APPLE iPhone 12 (Green, 128 GB)',\n",
       "  'APPLE iPhone 14 Plus (Blue, 256 GB)']}"
      ]
     },
     "execution_count": 18,
     "metadata": {},
     "output_type": "execute_result"
    }
   ],
   "source": [
    "scraper.get_result_similar(flipkart_url, grouped= True)"
   ]
  },
  {
   "cell_type": "code",
   "execution_count": 21,
   "id": "133f4751",
   "metadata": {},
   "outputs": [],
   "source": [
    "scraper.set_rule_aliases({\"rule_slfi\":\"Tital\",\"rule_mnac\":\"Price\"})\n",
    "scraper.keep_rules([\"rule_slfi\",\"rule_mnac\"])\n",
    "scraper.save('flipkart_search')"
   ]
  },
  {
   "cell_type": "code",
   "execution_count": null,
   "id": "04c9d26f",
   "metadata": {},
   "outputs": [],
   "source": []
  },
  {
   "cell_type": "code",
   "execution_count": null,
   "id": "a2832016",
   "metadata": {},
   "outputs": [],
   "source": []
  }
 ],
 "metadata": {
  "kernelspec": {
   "display_name": "Python 3 (ipykernel)",
   "language": "python",
   "name": "python3"
  },
  "language_info": {
   "codemirror_mode": {
    "name": "ipython",
    "version": 3
   },
   "file_extension": ".py",
   "mimetype": "text/x-python",
   "name": "python",
   "nbconvert_exporter": "python",
   "pygments_lexer": "ipython3",
   "version": "3.9.12"
  }
 },
 "nbformat": 4,
 "nbformat_minor": 5
}
